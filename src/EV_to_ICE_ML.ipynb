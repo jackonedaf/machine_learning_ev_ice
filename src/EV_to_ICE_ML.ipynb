{
  "cells": [
    {
      "cell_type": "markdown",
      "metadata": {},
      "source": [
        "# Colab work preparations\n",
        "*Note: remember to change/check if paths are correct*"
      ]
    },
    {
      "cell_type": "markdown",
      "metadata": {},
      "source": [
        "### Prepare workspace"
      ]
    },
    {
      "cell_type": "code",
      "execution_count": null,
      "metadata": {
        "colab": {
          "base_uri": "https://localhost:8080/"
        },
        "collapsed": true,
        "id": "3oB99vcFrGWR",
        "outputId": "56708944-b638-4e6c-a3df-07052899215d"
      },
      "outputs": [],
      "source": [
        "# remove possible leftovers and clear-clone the whole repo\n",
        "%cd /content\n",
        "%rm -rf ./machine_learning_ev_ice\n",
        "!git clone https://github.com/stas420/machine_learning_ev_ice.git\n",
        "\n",
        "# a git pull pro forma\n",
        "%cd ./machine_learning_ev_ice\n",
        "!git pull\n",
        "\n",
        "# go to our main directory\n",
        "%cd ./src\n",
        "\n",
        "# check (and download, if needed) dependencies for the project\n",
        "%pip install -r requirements.txt"
      ]
    },
    {
      "cell_type": "markdown",
      "metadata": {},
      "source": [
        "### A few global variables for Colab"
      ]
    },
    {
      "cell_type": "code",
      "execution_count": null,
      "metadata": {},
      "outputs": [],
      "source": [
        "from google.colab import files\n",
        "files.view('./CONSTANTS.py')"
      ]
    },
    {
      "cell_type": "markdown",
      "metadata": {
        "id": "ipp6kZ_9NTTK"
      },
      "source": [
        "### Mount Google Drive data\n",
        "\n",
        "Dataset uploaded to Google Drive shall be mounted for further work, it will be in ```/content/drive``` directory"
      ]
    },
    {
      "cell_type": "code",
      "execution_count": null,
      "metadata": {
        "colab": {
          "base_uri": "https://localhost:8080/"
        },
        "id": "2IeZ7a9crGWT",
        "outputId": "766dc0a6-cbf1-4368-8648-5171bb735a67"
      },
      "outputs": [],
      "source": [
        "%cd /content\n",
        "\n",
        "from CONSTANTS import CONTENT_DRIVE_PATH\n",
        "from google.colab import drive\n",
        "import os\n",
        "\n",
        "if not 'drive' in os.listdir():\n",
        "  drive.mount(CONTENT_DRIVE_PATH)\n",
        "else:\n",
        "  print(\"drajw dajrektory alredi prezent\")"
      ]
    },
    {
      "cell_type": "markdown",
      "metadata": {
        "id": "F5sCM44OjlQO"
      },
      "source": [
        "---\n",
        "# Preparing data"
      ]
    },
    {
      "cell_type": "markdown",
      "metadata": {},
      "source": [
        "### Downloading database\n",
        "If you do not have it, you may download the data with this script"
      ]
    },
    {
      "cell_type": "code",
      "execution_count": null,
      "metadata": {},
      "outputs": [],
      "source": [
        "# ---- download_videos.py ----\n",
        "%cd /content/machine_learning_ev_ice/src\n",
        "\n",
        "from google.colab import files\n",
        "files.view('./download_videos.py')\n",
        "\n",
        "%run ./download_videos.py"
      ]
    },
    {
      "cell_type": "markdown",
      "metadata": {},
      "source": [
        "### Extracting video frames\n",
        "\n",
        "***Important!*** *Below code cell runs, if - and only if - the frames are not yet present!* This procedure takes quite some time, and should be already done on your personal device, not on the remote VM."
      ]
    },
    {
      "cell_type": "code",
      "execution_count": null,
      "metadata": {
        "id": "eBpUp2Lxjm1R"
      },
      "outputs": [],
      "source": [
        "# ---- extract_video_frames.py ----\n",
        "%cd /content/machine_learning_ev_ice/src\n",
        "\n",
        "from google.colab import files\n",
        "files.view('./extract_video_frames.py')\n",
        "\n",
        "%run ./extract_video_frames.py"
      ]
    },
    {
      "cell_type": "markdown",
      "metadata": {},
      "source": [
        "### Data augmentation\n",
        "\n",
        "This code will duplicate a few of the extracted frames and alter them, to make dataset a bit more interesting"
      ]
    },
    {
      "cell_type": "code",
      "execution_count": null,
      "metadata": {},
      "outputs": [],
      "source": [
        "# ---- frames_augmentation.py ----\n",
        "%cd /content/machine_learning_ev_ice/src\n",
        "\n",
        "from google.colab import files\n",
        "files.view('./frames_augmentation.py')\n",
        "\n",
        "%run ./frames_augmentation.py"
      ]
    },
    {
      "cell_type": "markdown",
      "metadata": {
        "id": "HXgVhaT5pd0L"
      },
      "source": [
        "***HERE LABEL THE IMAGES LOCALLY!***\n",
        "\n",
        "### XML to YOLO format conversion\n",
        "\n",
        "Labels made in labelImg are in XML format, which is not the same as YOLO labels format - cast is needed."
      ]
    },
    {
      "cell_type": "code",
      "execution_count": null,
      "metadata": {
        "colab": {
          "base_uri": "https://localhost:8080/"
        },
        "id": "r44ksKeipi6e",
        "outputId": "23e5c8ab-60a9-4ad2-9484-92cf30af28a1"
      },
      "outputs": [],
      "source": [
        "# ---- convert_xml_to_yolo.py ----\n",
        "%cd /content/machine_learning_ev_ice/src\n",
        "\n",
        "from google.colab import files\n",
        "files.view('./convert_xml_to_yolo.py')\n",
        "\n",
        "%run ./convert_xml_to_yolo.py"
      ]
    },
    {
      "cell_type": "markdown",
      "metadata": {
        "id": "2wtTD4u_XzkQ"
      },
      "source": [
        "### Move prepared data to training_data"
      ]
    },
    {
      "cell_type": "code",
      "execution_count": null,
      "metadata": {
        "id": "KgojmCx6X4N6"
      },
      "outputs": [],
      "source": [
        "# ---- move_to_training_data.py ----\n",
        "%cd /content/machine_learning_ev_ice/src\n",
        "\n",
        "from google.colab import files\n",
        "files.view('./move_to_training_data.py')\n",
        "\n",
        "%run ./move_to_training_data.py"
      ]
    },
    {
      "cell_type": "markdown",
      "metadata": {},
      "source": [
        "---\n",
        "\n",
        "# Real work here"
      ]
    },
    {
      "cell_type": "markdown",
      "metadata": {
        "id": "pWtCZg8DNPf5"
      },
      "source": [
        "### Training the model with povided labeled data\n",
        "\n",
        "The model first needs to understand what cars are EV, what cars are ICE, and what are \"other\" (i.e. indistinguishable, or vintage, possibly)."
      ]
    },
    {
      "cell_type": "markdown",
      "metadata": {
        "id": "GB3ktMMNojU0"
      },
      "source": [
        "### Important check\n",
        "\n",
        "Before proceeding, make sure there is a directory structured like this:\n",
        "\n",
        "```\n",
        "training_data/\n",
        "├── images/\n",
        "│   ├── train/\n",
        "│   └── val/\n",
        "└── labels/\n",
        "    ├── train/\n",
        "    └── val/\n",
        "```\n",
        "\n",
        "and the files these folders contain have unique pairs (non-overlapping across train/val, too!) of corresponding names, i.e.:\n",
        "\n",
        "images/train/img1.png <-> labels/traing/img1.txt; images/val/img2.png <-> labels/val/img2.png"
      ]
    },
    {
      "cell_type": "markdown",
      "metadata": {
        "id": "ML05xDusjHCl"
      },
      "source": [
        "### Configuration file\n",
        "\n",
        "The *config.yaml* file configures the flow of the model training process, it looks like this:\n",
        "\n",
        "```\n",
        "# data.yaml\n",
        "path: training_data\n",
        "\n",
        "train: images/train\n",
        "val: images/val\n",
        "\n",
        "nc: 2\n",
        "names:\n",
        "  0: EV\n",
        "  1: ICE\n",
        "```\n",
        "\n",
        "For full info, check out the [ultralytics docs](https://docs.ultralytics.com/usage/cfg/#predict-settings)."
      ]
    },
    {
      "cell_type": "code",
      "execution_count": null,
      "metadata": {
        "colab": {
          "base_uri": "https://localhost:8080/",
          "height": 621
        },
        "id": "ExavqF9seA3p",
        "outputId": "69283581-b8f9-486d-bce3-a96db4acd3a8"
      },
      "outputs": [],
      "source": [
        "################################################################\n",
        "# Change this script in accordance to your working environment #\n",
        "################################################################\n",
        "\n",
        "%cd /content/machine_learning_ev_ice/src\n",
        "\n",
        "from ultralytics import YOLO\n",
        "import CONSTANTS\n",
        "\n",
        "MODEL_PATH = './yolov8s.pt'\n",
        "CONF_FILE = './config.yaml'\n",
        "EPOCHS_NUM = 100\n",
        "\n",
        "model = YOLO(MODEL_PATH)\n",
        "model.train(data = CONF_FILE, epochs = EPOCHS_NUM)"
      ]
    },
    {
      "cell_type": "markdown",
      "metadata": {},
      "source": [
        "---\n",
        "\n",
        "# Validation helper\n",
        "\n",
        "The below script helps you check whether the model is working ok by drawing the bounding boxes and writing assigned labels."
      ]
    },
    {
      "cell_type": "code",
      "execution_count": null,
      "metadata": {
        "id": "pRG7YckugWgM"
      },
      "outputs": [],
      "source": [
        "# ---- validation_helper.py ----\n",
        "%cd /content/machine_learning_ev_ice/src\n",
        "\n",
        "from google.colab import files\n",
        "files.view('./validation_helper.py')\n",
        "\n",
        "%run ./validation_helper.py"
      ]
    }
  ],
  "metadata": {
    "colab": {
      "include_colab_link": true,
      "provenance": []
    },
    "kernelspec": {
      "display_name": ".venv",
      "language": "python",
      "name": "python3"
    },
    "language_info": {
      "codemirror_mode": {
        "name": "ipython",
        "version": 3
      },
      "file_extension": ".py",
      "mimetype": "text/x-python",
      "name": "python",
      "nbconvert_exporter": "python",
      "pygments_lexer": "ipython3",
      "version": "3.12.6"
    }
  },
  "nbformat": 4,
  "nbformat_minor": 0
}
