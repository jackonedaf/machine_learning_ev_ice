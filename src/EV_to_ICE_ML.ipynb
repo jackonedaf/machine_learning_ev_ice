{
  "cells": [
    {
      "cell_type": "markdown",
      "metadata": {
        "colab_type": "text",
        "id": "view-in-github"
      },
      "source": [
        "<a href=\"https://colab.research.google.com/github/stas420/machine_learning_ev_ice/blob/main/EV_to_ICE_ML.ipynb\" target=\"_parent\"><img src=\"https://colab.research.google.com/assets/colab-badge.svg\" alt=\"Open In Colab\"/></a>"
      ]
    },
    {
      "cell_type": "markdown",
      "metadata": {
        "id": "y63zTPUzs8BK"
      },
      "source": [
        "**TODO:** poprawić to, żeby robiło *git push* albo *git clone link* w zależności od potrzeby"
      ]
    },
    {
      "cell_type": "code",
      "execution_count": null,
      "metadata": {
        "colab": {
          "base_uri": "https://localhost:8080/"
        },
        "id": "0TJBJJrusGnx",
        "outputId": "9905a5c7-3a30-4935-862d-db2e4383fcff"
      },
      "outputs": [],
      "source": [
        "%run fetch_repo.py"
      ]
    },
    {
      "cell_type": "code",
      "execution_count": 1,
      "metadata": {
        "colab": {
          "base_uri": "https://localhost:8080/"
        },
        "id": "3oB99vcFrGWR",
        "outputId": "27fb99b2-99e1-4bd0-adbd-9539550c355b"
      },
      "outputs": [
        {
          "name": "stdout",
          "output_type": "stream",
          "text": [
            "Requirement already satisfied: setuptools==78.1.0 in e:\\studia\\machine_learning_ev_ice\\.venv\\lib\\site-packages (from -r requirements.txt (line 2)) (78.1.0)\n",
            "Requirement already satisfied: labelImg==1.8.6 in e:\\studia\\machine_learning_ev_ice\\.venv\\lib\\site-packages (from -r requirements.txt (line 3)) (1.8.6)\n",
            "Requirement already satisfied: torch==2.6.0 in e:\\studia\\machine_learning_ev_ice\\.venv\\lib\\site-packages (from -r requirements.txt (line 6)) (2.6.0)\n",
            "Requirement already satisfied: numpy==2.2.4 in e:\\studia\\machine_learning_ev_ice\\.venv\\lib\\site-packages (from -r requirements.txt (line 7)) (2.2.4)\n",
            "Requirement already satisfied: pyqt5 in e:\\studia\\machine_learning_ev_ice\\.venv\\lib\\site-packages (from labelImg==1.8.6->-r requirements.txt (line 3)) (5.15.11)\n",
            "Requirement already satisfied: lxml in e:\\studia\\machine_learning_ev_ice\\.venv\\lib\\site-packages (from labelImg==1.8.6->-r requirements.txt (line 3)) (5.3.2)\n",
            "Requirement already satisfied: filelock in e:\\studia\\machine_learning_ev_ice\\.venv\\lib\\site-packages (from torch==2.6.0->-r requirements.txt (line 6)) (3.18.0)\n",
            "Requirement already satisfied: typing-extensions>=4.10.0 in e:\\studia\\machine_learning_ev_ice\\.venv\\lib\\site-packages (from torch==2.6.0->-r requirements.txt (line 6)) (4.13.1)\n",
            "Requirement already satisfied: networkx in e:\\studia\\machine_learning_ev_ice\\.venv\\lib\\site-packages (from torch==2.6.0->-r requirements.txt (line 6)) (3.4.2)\n",
            "Requirement already satisfied: jinja2 in e:\\studia\\machine_learning_ev_ice\\.venv\\lib\\site-packages (from torch==2.6.0->-r requirements.txt (line 6)) (3.1.6)\n",
            "Requirement already satisfied: fsspec in e:\\studia\\machine_learning_ev_ice\\.venv\\lib\\site-packages (from torch==2.6.0->-r requirements.txt (line 6)) (2025.3.2)\n",
            "Requirement already satisfied: sympy==1.13.1 in e:\\studia\\machine_learning_ev_ice\\.venv\\lib\\site-packages (from torch==2.6.0->-r requirements.txt (line 6)) (1.13.1)\n",
            "Requirement already satisfied: mpmath<1.4,>=1.1.0 in e:\\studia\\machine_learning_ev_ice\\.venv\\lib\\site-packages (from sympy==1.13.1->torch==2.6.0->-r requirements.txt (line 6)) (1.3.0)\n",
            "Requirement already satisfied: MarkupSafe>=2.0 in e:\\studia\\machine_learning_ev_ice\\.venv\\lib\\site-packages (from jinja2->torch==2.6.0->-r requirements.txt (line 6)) (3.0.2)\n",
            "Requirement already satisfied: PyQt5-sip<13,>=12.15 in e:\\studia\\machine_learning_ev_ice\\.venv\\lib\\site-packages (from pyqt5->labelImg==1.8.6->-r requirements.txt (line 3)) (12.17.0)\n",
            "Requirement already satisfied: PyQt5-Qt5<5.16.0,>=5.15.2 in e:\\studia\\machine_learning_ev_ice\\.venv\\lib\\site-packages (from pyqt5->labelImg==1.8.6->-r requirements.txt (line 3)) (5.15.2)\n",
            "Note: you may need to restart the kernel to use updated packages.\n"
          ]
        }
      ],
      "source": [
        "# Setup dependencies for the project\n",
        "%pip install -r requirements.txt"
      ]
    },
    {
      "cell_type": "code",
      "execution_count": null,
      "metadata": {
        "colab": {
          "base_uri": "https://localhost:8080/"
        },
        "id": "2IeZ7a9crGWT",
        "outputId": "5a3e7c71-7911-4dba-fd94-e88e5f8f0e9d"
      },
      "outputs": [],
      "source": [
        "# Launch labelImg\n",
        "!labelImg"
      ]
    },
    {
      "cell_type": "code",
      "execution_count": 6,
      "metadata": {},
      "outputs": [
        {
          "name": "stdout",
          "output_type": "stream",
          "text": [
            "tensor([[0.6911, 0.6480, 0.2945],\n",
            "        [0.3720, 0.2621, 0.3562],\n",
            "        [0.0833, 0.8154, 0.2560],\n",
            "        [0.9047, 0.7416, 0.1554],\n",
            "        [0.7222, 0.8233, 0.4087]])\n"
          ]
        }
      ],
      "source": [
        "import torch\n",
        "\n",
        "rand = torch.rand(5, 3)\n",
        "print(rand)"
      ]
    },
    {
      "cell_type": "markdown",
      "metadata": {
        "id": "v6ZA89xgozHj"
      },
      "source": [
        "Dżem dobry\n",
        ":)"
      ]
    }
  ],
  "metadata": {
    "colab": {
      "include_colab_link": true,
      "provenance": []
    },
    "kernelspec": {
      "display_name": ".venv",
      "language": "python",
      "name": "python3"
    },
    "language_info": {
      "codemirror_mode": {
        "name": "ipython",
        "version": 3
      },
      "file_extension": ".py",
      "mimetype": "text/x-python",
      "name": "python",
      "nbconvert_exporter": "python",
      "pygments_lexer": "ipython3",
      "version": "3.12.6"
    }
  },
  "nbformat": 4,
  "nbformat_minor": 0
}
