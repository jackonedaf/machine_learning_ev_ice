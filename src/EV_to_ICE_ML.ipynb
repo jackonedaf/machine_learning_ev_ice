{
  "cells": [
    {
      "cell_type": "markdown",
      "metadata": {
        "colab_type": "text",
        "id": "view-in-github"
      },
      "source": [
        "<a href=\"https://colab.research.google.com/github/stas420/machine_learning_ev_ice/blob/main/EV_to_ICE_ML.ipynb\" target=\"_parent\"><img src=\"https://colab.research.google.com/assets/colab-badge.svg\" alt=\"Open In Colab\"/></a>"
      ]
    },
    {
      "cell_type": "markdown",
      "metadata": {
        "id": "y63zTPUzs8BK"
      },
      "source": [
        "**TODO:** poprawić to, żeby robiło *git push* albo *git clone link* w zależności od potrzeby"
      ]
    },
    {
      "cell_type": "code",
      "execution_count": null,
      "metadata": {
        "colab": {
          "base_uri": "https://localhost:8080/"
        },
        "id": "0TJBJJrusGnx",
        "outputId": "9905a5c7-3a30-4935-862d-db2e4383fcff"
      },
      "outputs": [],
      "source": [
        "!git clone https://github.com/stas420/machine_learning_ev_ice.git\n",
        "%cd machine_learning_ev_ice"
      ]
    },
    {
      "cell_type": "code",
      "execution_count": 1,
      "metadata": {
        "colab": {
          "base_uri": "https://localhost:8080/"
        },
        "id": "3oB99vcFrGWR",
        "outputId": "27fb99b2-99e1-4bd0-adbd-9539550c355b"
      },
      "outputs": [
        {
          "name": "stdout",
          "output_type": "stream",
          "text": [
            "^C\n",
            "Note: you may need to restart the kernel to use updated packages.\n"
          ]
        },
        {
          "name": "stdout",
          "output_type": "stream",
          "text": [
            "Requirement already satisfied: setuptools==78.1.0 in d:\\dev\\machine_learning_ev_ice\\.venv\\lib\\site-packages (from -r requirements.txt (line 2)) (78.1.0)\n",
            "Requirement already satisfied: labelImg==1.8.6 in d:\\dev\\machine_learning_ev_ice\\.venv\\lib\\site-packages (from -r requirements.txt (line 3)) (1.8.6)\n",
            "Requirement already satisfied: pyqt5 in d:\\dev\\machine_learning_ev_ice\\.venv\\lib\\site-packages (from labelImg==1.8.6->-r requirements.txt (line 3)) (5.15.11)\n",
            "Requirement already satisfied: lxml in d:\\dev\\machine_learning_ev_ice\\.venv\\lib\\site-packages (from labelImg==1.8.6->-r requirements.txt (line 3)) (5.3.2)\n",
            "Requirement already satisfied: PyQt5-sip<13,>=12.15 in d:\\dev\\machine_learning_ev_ice\\.venv\\lib\\site-packages (from pyqt5->labelImg==1.8.6->-r requirements.txt (line 3)) (12.17.0)\n",
            "Requirement already satisfied: PyQt5-Qt5<5.16.0,>=5.15.2 in d:\\dev\\machine_learning_ev_ice\\.venv\\lib\\site-packages (from pyqt5->labelImg==1.8.6->-r requirements.txt (line 3)) (5.15.2)\n"
          ]
        }
      ],
      "source": [
        "# Setup dependencies for the project\n",
        "%pip install -r requirements.txt"
      ]
    },
    {
      "cell_type": "code",
      "execution_count": null,
      "metadata": {
        "colab": {
          "base_uri": "https://localhost:8080/"
        },
        "id": "2IeZ7a9crGWT",
        "outputId": "5a3e7c71-7911-4dba-fd94-e88e5f8f0e9d"
      },
      "outputs": [],
      "source": [
        "# Launch labelImg\n",
        "!labelImg"
      ]
    },
    {
      "cell_type": "code",
      "execution_count": 3,
      "metadata": {},
      "outputs": [
        {
          "name": "stdout",
          "output_type": "stream",
          "text": [
            "tensor([[0.5824, 0.2493, 0.6837],\n",
            "        [0.4358, 0.8300, 0.4366],\n",
            "        [0.1966, 0.3399, 0.1147],\n",
            "        [0.5175, 0.5684, 0.9928],\n",
            "        [0.9110, 0.7190, 0.0368]])\n"
          ]
        }
      ],
      "source": [
        "import torch\n",
        "\n",
        "rand = torch.rand(5, 3)\n",
        "print(rand)"
      ]
    },
    {
      "cell_type": "markdown",
      "metadata": {
        "id": "v6ZA89xgozHj"
      },
      "source": [
        "Dżem dobry\n",
        ":)"
      ]
    }
  ],
  "metadata": {
    "colab": {
      "include_colab_link": true,
      "provenance": []
    },
    "kernelspec": {
      "display_name": ".venv",
      "language": "python",
      "name": "python3"
    },
    "language_info": {
      "codemirror_mode": {
        "name": "ipython",
        "version": 3
      },
      "file_extension": ".py",
      "mimetype": "text/x-python",
      "name": "python",
      "nbconvert_exporter": "python",
      "pygments_lexer": "ipython3",
      "version": "3.12.9"
    }
  },
  "nbformat": 4,
  "nbformat_minor": 0
}
