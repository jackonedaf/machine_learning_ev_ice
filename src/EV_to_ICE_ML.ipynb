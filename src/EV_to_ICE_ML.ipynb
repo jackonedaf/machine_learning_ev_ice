{
  "cells": [
    {
      "cell_type": "markdown",
      "metadata": {},
      "source": [
        "# A few global variables for Colab"
      ]
    },
    {
      "cell_type": "code",
      "execution_count": null,
      "metadata": {},
      "outputs": [],
      "source": [
        "CONTENT_PATH = '/content'\n",
        "CONTENT_DRIVE_PATH = CONTENT_PATH + '/drive'\n",
        "MOUNTED_DRIVE_PATH = CONTENT_DRIVE_PATH + '/MyDrive'\n",
        "TRAINING_DATA_PATH = CONTENT_PATH + '/training_data'\n",
        "REPO_PATH = CONTENT_PATH + '/machine_learning_ev_ice'\n",
        "REPO_SRC_PATH = REPO_PATH + '/src'"
      ]
    },
    {
      "cell_type": "markdown",
      "metadata": {},
      "source": [
        "# Colab work preparations"
      ]
    },
    {
      "cell_type": "markdown",
      "metadata": {},
      "source": [
<<<<<<< HEAD
        "### Prepare workspace"
      ]
=======
        "---\n",
        "# A few global variables"
      ],
      "metadata": {
        "id": "WQpmgashBupp"
      }
    },
    {
      "cell_type": "code",
      "source": [
        "VIDEOS_PATH = '/content/drive/MyDrive/videos'\n",
        "IMAGES_PATH = '/content/imgs'\n",
        "CAR_IMAGES_PATH = '/content/drive/MyDrive/carImages'\n",
        "TRAINING_DATA = '/content/drive/MyDrive/training_data'"
      ],
      "metadata": {
        "id": "VTmr5b5lBuOP"
      },
      "execution_count": 1,
      "outputs": []
    },
    {
      "cell_type": "markdown",
      "source": [
        "---\n",
        "# Preparations\n",
        "\n",
        "## Setup and dependencies\n",
        "Run the below cell, which shall clone the repo contents and prepare the machine for work. This may take a few minutes.\n",
        "\n",
        "***Important:*** This is the first cell you shall run in this project, otherwise it won't be working.\n",
        "\n",
        "After 'pip' is done, it may ask you to restart this session - please do accordingly."
      ],
      "metadata": {
        "id": "PRPDslf-MuH0"
      }
>>>>>>> d65d25e1b9b9a1448881b1b05b7a6814a23693da
    },
    {
      "cell_type": "code",
      "execution_count": 2,
      "metadata": {
        "colab": {
          "base_uri": "https://localhost:8080/"
        },
        "collapsed": true,
        "id": "3oB99vcFrGWR",
<<<<<<< HEAD
        "outputId": "56708944-b638-4e6c-a3df-07052899215d"
      },
      "outputs": [],
=======
        "outputId": "1ead4027-b6ee-4ca1-ccbe-713dcf0090c0",
        "collapsed": true
      },
      "outputs": [
        {
          "output_type": "stream",
          "name": "stdout",
          "text": [
            "/content\n",
            "Cloning into 'machine_learning_ev_ice'...\n",
            "remote: Enumerating objects: 140, done.\u001b[K\n",
            "remote: Counting objects: 100% (140/140), done.\u001b[K\n",
            "remote: Compressing objects: 100% (118/118), done.\u001b[K\n",
            "remote: Total 140 (delta 82), reused 54 (delta 19), pack-reused 0 (from 0)\u001b[K\n",
            "Receiving objects: 100% (140/140), 25.65 MiB | 20.13 MiB/s, done.\n",
            "Resolving deltas: 100% (82/82), done.\n",
            "/content/machine_learning_ev_ice\n",
            "Already up to date.\n",
            "/content/machine_learning_ev_ice/src\n",
            "Requirement already satisfied: setuptools==78.1.0 in /usr/local/lib/python3.11/dist-packages (from -r requirements.txt (line 2)) (78.1.0)\n",
            "Requirement already satisfied: labelImg==1.8.6 in /usr/local/lib/python3.11/dist-packages (from -r requirements.txt (line 3)) (1.8.6)\n",
            "Requirement already satisfied: torch==2.6.0 in /usr/local/lib/python3.11/dist-packages (from -r requirements.txt (line 6)) (2.6.0+cu124)\n",
            "Requirement already satisfied: numpy==2.2.4 in /usr/local/lib/python3.11/dist-packages (from -r requirements.txt (line 7)) (2.2.4)\n",
            "Requirement already satisfied: ultralytics==8.3.140 in /usr/local/lib/python3.11/dist-packages (from -r requirements.txt (line 8)) (8.3.140)\n",
            "Requirement already satisfied: opencv-python-headless==4.11.0.86 in /usr/local/lib/python3.11/dist-packages (from -r requirements.txt (line 9)) (4.11.0.86)\n",
            "Requirement already satisfied: tqdm==4.67.1 in /usr/local/lib/python3.11/dist-packages (from -r requirements.txt (line 10)) (4.67.1)\n",
            "Requirement already satisfied: pyqt5 in /usr/local/lib/python3.11/dist-packages (from labelImg==1.8.6->-r requirements.txt (line 3)) (5.15.11)\n",
            "Requirement already satisfied: lxml in /usr/local/lib/python3.11/dist-packages (from labelImg==1.8.6->-r requirements.txt (line 3)) (5.4.0)\n",
            "Requirement already satisfied: filelock in /usr/local/lib/python3.11/dist-packages (from torch==2.6.0->-r requirements.txt (line 6)) (3.18.0)\n",
            "Requirement already satisfied: typing-extensions>=4.10.0 in /usr/local/lib/python3.11/dist-packages (from torch==2.6.0->-r requirements.txt (line 6)) (4.14.0)\n",
            "Requirement already satisfied: networkx in /usr/local/lib/python3.11/dist-packages (from torch==2.6.0->-r requirements.txt (line 6)) (3.5)\n",
            "Requirement already satisfied: jinja2 in /usr/local/lib/python3.11/dist-packages (from torch==2.6.0->-r requirements.txt (line 6)) (3.1.6)\n",
            "Requirement already satisfied: fsspec in /usr/local/lib/python3.11/dist-packages (from torch==2.6.0->-r requirements.txt (line 6)) (2025.3.2)\n",
            "Requirement already satisfied: nvidia-cuda-nvrtc-cu12==12.4.127 in /usr/local/lib/python3.11/dist-packages (from torch==2.6.0->-r requirements.txt (line 6)) (12.4.127)\n",
            "Requirement already satisfied: nvidia-cuda-runtime-cu12==12.4.127 in /usr/local/lib/python3.11/dist-packages (from torch==2.6.0->-r requirements.txt (line 6)) (12.4.127)\n",
            "Requirement already satisfied: nvidia-cuda-cupti-cu12==12.4.127 in /usr/local/lib/python3.11/dist-packages (from torch==2.6.0->-r requirements.txt (line 6)) (12.4.127)\n",
            "Requirement already satisfied: nvidia-cudnn-cu12==9.1.0.70 in /usr/local/lib/python3.11/dist-packages (from torch==2.6.0->-r requirements.txt (line 6)) (9.1.0.70)\n",
            "Requirement already satisfied: nvidia-cublas-cu12==12.4.5.8 in /usr/local/lib/python3.11/dist-packages (from torch==2.6.0->-r requirements.txt (line 6)) (12.4.5.8)\n",
            "Requirement already satisfied: nvidia-cufft-cu12==11.2.1.3 in /usr/local/lib/python3.11/dist-packages (from torch==2.6.0->-r requirements.txt (line 6)) (11.2.1.3)\n",
            "Requirement already satisfied: nvidia-curand-cu12==10.3.5.147 in /usr/local/lib/python3.11/dist-packages (from torch==2.6.0->-r requirements.txt (line 6)) (10.3.5.147)\n",
            "Requirement already satisfied: nvidia-cusolver-cu12==11.6.1.9 in /usr/local/lib/python3.11/dist-packages (from torch==2.6.0->-r requirements.txt (line 6)) (11.6.1.9)\n",
            "Requirement already satisfied: nvidia-cusparse-cu12==12.3.1.170 in /usr/local/lib/python3.11/dist-packages (from torch==2.6.0->-r requirements.txt (line 6)) (12.3.1.170)\n",
            "Requirement already satisfied: nvidia-cusparselt-cu12==0.6.2 in /usr/local/lib/python3.11/dist-packages (from torch==2.6.0->-r requirements.txt (line 6)) (0.6.2)\n",
            "Requirement already satisfied: nvidia-nccl-cu12==2.21.5 in /usr/local/lib/python3.11/dist-packages (from torch==2.6.0->-r requirements.txt (line 6)) (2.21.5)\n",
            "Requirement already satisfied: nvidia-nvtx-cu12==12.4.127 in /usr/local/lib/python3.11/dist-packages (from torch==2.6.0->-r requirements.txt (line 6)) (12.4.127)\n",
            "Requirement already satisfied: nvidia-nvjitlink-cu12==12.4.127 in /usr/local/lib/python3.11/dist-packages (from torch==2.6.0->-r requirements.txt (line 6)) (12.4.127)\n",
            "Requirement already satisfied: triton==3.2.0 in /usr/local/lib/python3.11/dist-packages (from torch==2.6.0->-r requirements.txt (line 6)) (3.2.0)\n",
            "Requirement already satisfied: sympy==1.13.1 in /usr/local/lib/python3.11/dist-packages (from torch==2.6.0->-r requirements.txt (line 6)) (1.13.1)\n",
            "Requirement already satisfied: matplotlib>=3.3.0 in /usr/local/lib/python3.11/dist-packages (from ultralytics==8.3.140->-r requirements.txt (line 8)) (3.10.0)\n",
            "Requirement already satisfied: opencv-python>=4.6.0 in /usr/local/lib/python3.11/dist-packages (from ultralytics==8.3.140->-r requirements.txt (line 8)) (4.11.0.86)\n",
            "Requirement already satisfied: pillow>=7.1.2 in /usr/local/lib/python3.11/dist-packages (from ultralytics==8.3.140->-r requirements.txt (line 8)) (11.2.1)\n",
            "Requirement already satisfied: pyyaml>=5.3.1 in /usr/local/lib/python3.11/dist-packages (from ultralytics==8.3.140->-r requirements.txt (line 8)) (6.0.2)\n",
            "Requirement already satisfied: requests>=2.23.0 in /usr/local/lib/python3.11/dist-packages (from ultralytics==8.3.140->-r requirements.txt (line 8)) (2.32.3)\n",
            "Requirement already satisfied: scipy>=1.4.1 in /usr/local/lib/python3.11/dist-packages (from ultralytics==8.3.140->-r requirements.txt (line 8)) (1.15.3)\n",
            "Requirement already satisfied: torchvision>=0.9.0 in /usr/local/lib/python3.11/dist-packages (from ultralytics==8.3.140->-r requirements.txt (line 8)) (0.21.0+cu124)\n",
            "Requirement already satisfied: psutil in /usr/local/lib/python3.11/dist-packages (from ultralytics==8.3.140->-r requirements.txt (line 8)) (5.9.5)\n",
            "Requirement already satisfied: py-cpuinfo in /usr/local/lib/python3.11/dist-packages (from ultralytics==8.3.140->-r requirements.txt (line 8)) (9.0.0)\n",
            "Requirement already satisfied: pandas>=1.1.4 in /usr/local/lib/python3.11/dist-packages (from ultralytics==8.3.140->-r requirements.txt (line 8)) (2.2.2)\n",
            "Requirement already satisfied: ultralytics-thop>=2.0.0 in /usr/local/lib/python3.11/dist-packages (from ultralytics==8.3.140->-r requirements.txt (line 8)) (2.0.14)\n",
            "Requirement already satisfied: mpmath<1.4,>=1.1.0 in /usr/local/lib/python3.11/dist-packages (from sympy==1.13.1->torch==2.6.0->-r requirements.txt (line 6)) (1.3.0)\n",
            "Requirement already satisfied: contourpy>=1.0.1 in /usr/local/lib/python3.11/dist-packages (from matplotlib>=3.3.0->ultralytics==8.3.140->-r requirements.txt (line 8)) (1.3.2)\n",
            "Requirement already satisfied: cycler>=0.10 in /usr/local/lib/python3.11/dist-packages (from matplotlib>=3.3.0->ultralytics==8.3.140->-r requirements.txt (line 8)) (0.12.1)\n",
            "Requirement already satisfied: fonttools>=4.22.0 in /usr/local/lib/python3.11/dist-packages (from matplotlib>=3.3.0->ultralytics==8.3.140->-r requirements.txt (line 8)) (4.58.1)\n",
            "Requirement already satisfied: kiwisolver>=1.3.1 in /usr/local/lib/python3.11/dist-packages (from matplotlib>=3.3.0->ultralytics==8.3.140->-r requirements.txt (line 8)) (1.4.8)\n",
            "Requirement already satisfied: packaging>=20.0 in /usr/local/lib/python3.11/dist-packages (from matplotlib>=3.3.0->ultralytics==8.3.140->-r requirements.txt (line 8)) (24.2)\n",
            "Requirement already satisfied: pyparsing>=2.3.1 in /usr/local/lib/python3.11/dist-packages (from matplotlib>=3.3.0->ultralytics==8.3.140->-r requirements.txt (line 8)) (3.2.3)\n",
            "Requirement already satisfied: python-dateutil>=2.7 in /usr/local/lib/python3.11/dist-packages (from matplotlib>=3.3.0->ultralytics==8.3.140->-r requirements.txt (line 8)) (2.9.0.post0)\n",
            "Requirement already satisfied: pytz>=2020.1 in /usr/local/lib/python3.11/dist-packages (from pandas>=1.1.4->ultralytics==8.3.140->-r requirements.txt (line 8)) (2025.2)\n",
            "Requirement already satisfied: tzdata>=2022.7 in /usr/local/lib/python3.11/dist-packages (from pandas>=1.1.4->ultralytics==8.3.140->-r requirements.txt (line 8)) (2025.2)\n",
            "Requirement already satisfied: charset-normalizer<4,>=2 in /usr/local/lib/python3.11/dist-packages (from requests>=2.23.0->ultralytics==8.3.140->-r requirements.txt (line 8)) (3.4.2)\n",
            "Requirement already satisfied: idna<4,>=2.5 in /usr/local/lib/python3.11/dist-packages (from requests>=2.23.0->ultralytics==8.3.140->-r requirements.txt (line 8)) (3.10)\n",
            "Requirement already satisfied: urllib3<3,>=1.21.1 in /usr/local/lib/python3.11/dist-packages (from requests>=2.23.0->ultralytics==8.3.140->-r requirements.txt (line 8)) (2.4.0)\n",
            "Requirement already satisfied: certifi>=2017.4.17 in /usr/local/lib/python3.11/dist-packages (from requests>=2.23.0->ultralytics==8.3.140->-r requirements.txt (line 8)) (2025.4.26)\n",
            "Requirement already satisfied: MarkupSafe>=2.0 in /usr/local/lib/python3.11/dist-packages (from jinja2->torch==2.6.0->-r requirements.txt (line 6)) (3.0.2)\n",
            "Requirement already satisfied: PyQt5-sip<13,>=12.15 in /usr/local/lib/python3.11/dist-packages (from pyqt5->labelImg==1.8.6->-r requirements.txt (line 3)) (12.17.0)\n",
            "Requirement already satisfied: PyQt5-Qt5<5.16.0,>=5.15.2 in /usr/local/lib/python3.11/dist-packages (from pyqt5->labelImg==1.8.6->-r requirements.txt (line 3)) (5.15.17)\n",
            "Requirement already satisfied: six>=1.5 in /usr/local/lib/python3.11/dist-packages (from python-dateutil>=2.7->matplotlib>=3.3.0->ultralytics==8.3.140->-r requirements.txt (line 8)) (1.17.0)\n"
          ]
        }
      ],
>>>>>>> d65d25e1b9b9a1448881b1b05b7a6814a23693da
      "source": [
        "# remove possible leftovers and clear-clone the whole repo\n",
        "%cd /content\n",
        "%rm -rf ./machine_learning_ev_ice\n",
        "!git clone https://github.com/stas420/machine_learning_ev_ice.git\n",
        "\n",
        "# a git pull pro forma\n",
        "%cd ./machine_learning_ev_ice\n",
        "!git pull\n",
        "\n",
        "# go to our main directory\n",
        "%cd ./src\n",
        "\n",
        "# check (and download, if needed) dependencies for the project\n",
        "%pip install -r requirements.txt"
      ]
    },
    {
      "cell_type": "markdown",
      "metadata": {
        "id": "ipp6kZ_9NTTK"
      },
      "source": [
        "### Mount Google Drive data\n",
        "\n",
        "Dataset uploaded to Google Drive shall be mounted for further work, it will be in ```/content/drive``` directory"
      ]
    },
    {
      "cell_type": "code",
      "execution_count": null,
      "metadata": {
        "colab": {
          "base_uri": "https://localhost:8080/"
        },
        "id": "2IeZ7a9crGWT",
        "outputId": "5fcefc89-1f2a-4735-aa12-5aa82ae17119"
      },
      "outputs": [],
      "source": [
        "%cd /content\n",
        "\n",
        "from google.colab import drive\n",
        "import os\n",
        "\n",
        "if not 'drive' in os.listdir():\n",
        "  drive.mount(CONTENT_DRIVE_PATH)\n",
        "else:\n",
        "  print(\"drajw dajrektory alredi prezent\")"
      ]
    },
    {
      "cell_type": "markdown",
      "metadata": {
        "id": "F5sCM44OjlQO"
      },
      "source": [
        "---\n",
        "# Preparing data"
      ]
    },
    {
      "cell_type": "markdown",
      "metadata": {},
      "source": [
        "### Downloading database\n",
        "If you do not have it, you may download the data with this script"
      ]
    },
    {
      "cell_type": "code",
      "execution_count": null,
      "metadata": {},
      "outputs": [],
      "source": [
        "# ---- download_videos.py ----\n",
        "%cd /content/machine_learning_ev_ice/src\n",
        "%run ./download_videos.py\n",
        "\n",
        "\n",
        "from google.colab import files\n",
        "\n",
        "files.view('./download_videos.py')"
      ]
    },
    {
      "cell_type": "markdown",
      "metadata": {},
      "source": [
        "### Extracting video frames\n",
        "\n",
        "***Important!*** *Below code cell runs, if - and only if - the frames are not yet present!* This procedure takes quite some time, and should be already done on your personal device, not on the remote VM."
      ]
    },
    {
      "cell_type": "code",
      "execution_count": null,
      "metadata": {
        "id": "eBpUp2Lxjm1R"
      },
      "outputs": [],
      "source": [
        "# ---- extract_video_frames.py ----\n",
        "%cd /content/machine_learning_ev_ice/src\n",
        "%run ./extract_video_frames.py\n",
        "\n",
        "\n",
        "from google.colab import files\n",
        "\n",
        "files.view('./extract_video_frames.py')"
      ]
    },
    {
      "cell_type": "markdown",
      "metadata": {
        "id": "HXgVhaT5pd0L"
      },
      "source": [
        "***HERE LABEL THE IMAGES LOCALLY!***\n",
        "\n",
        "### XML to YOLO format conversion\n",
        "\n",
        "Labels made in labelImg are in XML format, which is not the same as YOLO labels format - cast is needed."
      ]
    },
    {
      "cell_type": "code",
      "execution_count": null,
      "metadata": {
        "colab": {
          "base_uri": "https://localhost:8080/"
        },
        "id": "r44ksKeipi6e",
        "outputId": "23e5c8ab-60a9-4ad2-9484-92cf30af28a1"
      },
<<<<<<< HEAD
      "outputs": [],
      "source": [
        "# ---- convert_xml_to_yolo.py ----\n",
        "%cd /content/machine_learning_ev_ice/src\n",
        "%run ./convert_xml_to_yolo.py\n",
        "\n",
        "\n",
        "from google.colab import files\n",
        "\n",
        "files.view('./convert_xml_to_yolo.py')"
=======
      "execution_count": null,
      "outputs": [
        {
          "output_type": "stream",
          "name": "stdout",
          "text": [
            "/content/drive/MyDrive/carImages/batch_one\n",
            "20240301F000img000.txt\n",
            "20240301F000img001.txt\n",
            "20240301F001img000.txt\n",
            "20240301F001img001.txt\n",
            "20240301F002img000.txt\n",
            "20240301F002img002.txt\n",
            "20240301F040img002.txt\n",
            "20240301F040img003.txt\n",
            "20240301F040img004.txt\n",
            "20240301F018img002.txt\n",
            "20240301F040img014.txt\n",
            "20240301F018img004.txt\n",
            "20240301F040img017.txt\n",
            "20240301F040img018.txt\n",
            "20240301F040img019.txt\n",
            "20240301F040img020.txt\n",
            "20240301F018img008.txt\n",
            "20240301F041img000.txt\n",
            "20240301F019img002.txt\n",
            "20240301F041img010.txt\n",
            "20240301F019img003.txt\n",
            "20240301F041img017.txt\n",
            "20240301F019img005.txt\n",
            "20240301F041img018.txt\n",
            "20240301F019img007.txt\n",
            "20240301F041img021.txt\n",
            "20240301F041img022.txt\n",
            "20240301F042img001.txt\n",
            "20240301F019img011.txt\n",
            "20240301F061img017.txt\n",
            "20240301F042img002.txt\n",
            "20240301F042img003.txt\n",
            "20240301F019img012.txt\n",
            "20240301F042img005.txt\n",
            "20240301F062img000.txt\n",
            "20240301F020img007.txt\n",
            "20240301F020img009.txt\n",
            "20240301F042img013.txt\n",
            "20240301F062img001.txt\n",
            "20240301F020img012.txt\n",
            "20240301F042img016.txt\n",
            "20240301F042img017.txt\n",
            "20240301F020img013.txt\n",
            "20240301F062img008.txt\n",
            "20240301F042img018.txt\n",
            "20240301F062img009.txt\n",
            "20240301F043img000.txt\n",
            "20240301F020img014.txt\n",
            "20240301F062img010.txt\n",
            "20240301F021img001.txt\n",
            "20240301F043img002.txt\n",
            "20240301F062img012.txt\n",
            "20240301F043img003.txt\n",
            "20240301F021img006.txt\n",
            "20240301F063img000.txt\n",
            "20240301F043img004.txt\n",
            "20240301F063img001.txt\n",
            "20240301F043img005.txt\n",
            "20240301F021img009.txt\n",
            "20240301F043img007.txt\n",
            "20240301F063img006.txt\n",
            "20240301F043img013.txt\n",
            "20240301F021img011.txt\n",
            "20240301F063img008.txt\n",
            "20240301F022img001.txt\n",
            "20240301F043img021.txt\n",
            "20240301F064img000.txt\n",
            "20240301F043img023.txt\n",
            "20240301F022img006.txt\n",
            "20240301F043img024.txt\n",
            "20240301F064img001.txt\n",
            "20240301F043img025.txt\n",
            "20240301F044img000.txt\n",
            "20240301F044img002.txt\n",
            "20240301F064img008.txt\n",
            "20240301F022img010.txt\n",
            "20240301F044img003.txt\n",
            "20240301F064img010.txt\n",
            "20240301F044img004.txt\n",
            "20240301F022img011.txt\n",
            "20240301F065img000.txt\n",
            "20240301F044img005.txt\n",
            "20240301F023img002.txt\n",
            "20240301F065img007.txt\n",
            "20240301F023img007.txt\n",
            "20240301F044img006.txt\n",
            "20240301F044img009.txt\n",
            "20240301F044img024.txt\n",
            "20240301F044img025.txt\n",
            "20240301F065img009.txt\n",
            "20240301F044img026.txt\n",
            "20240301F044img027.txt\n",
            "20240301F065img010.txt\n",
            "20240301F044img028.txt\n",
            "20240301F045img000.txt\n",
            "20240301F065img014.txt\n",
            "20240301F045img004.txt\n",
            "20240301F066img000.txt\n",
            "20240301F045img006.txt\n",
            "20240301F066img009.txt\n",
            "20240301F045img012.txt\n",
            "20240301F066img011.txt\n",
            "20240301F045img013.txt\n",
            "20240301F067img003.txt\n",
            "20240301F045img015.txt\n",
            "20240301F067img004.txt\n",
            "20240301F068img001.txt\n",
            "20240301F068img002.txt\n",
            "20240301F023img008.txt\n",
            "20240301F068img004.txt\n",
            "20240301F068img006.txt\n",
            "20240301F023img010.txt\n",
            "20240301F023img012.txt\n",
            "20240301F069img007.txt\n",
            "20240301F069img009.txt\n",
            "20240301F023img013.txt\n",
            "20240301F070img002.txt\n",
            "20240301F070img003.txt\n",
            "20240301F024img001.txt\n",
            "20240301F070img005.txt\n",
            "20240301F071img001.txt\n",
            "20240301F024img002.txt\n",
            "20240301F045img017.txt\n",
            "20240301F024img008.txt\n",
            "20240301F046img000.txt\n",
            "20240301F024img009.txt\n",
            "20240301F024img011.txt\n",
            "20240301F046img012.txt\n",
            "20240301F046img013.txt\n",
            "20240301F024img013.txt\n",
            "20240301F046img014.txt\n",
            "20240301F025img000.txt\n",
            "20240301F046img016.txt\n",
            "20240301F071img004.txt\n",
            "20240301F047img000.txt\n",
            "20240301F025img001.txt\n",
            "20240301F047img002.txt\n",
            "20240301F071img007.txt\n",
            "20240301F025img002.txt\n",
            "20240301F047img015.txt\n",
            "20240301F072img001.txt\n",
            "20240301F025img004.txt\n",
            "20240301F047img016.txt\n",
            "20240301F048img000.txt\n",
            "20240301F072img003.txt\n",
            "20240301F025img008.txt\n",
            "20240301F048img004.txt\n",
            "20240301F025img011.txt\n",
            "20240301F072img004.txt\n",
            "20240301F048img005.txt\n",
            "20240301F025img012.txt\n",
            "20240301F072img007.txt\n",
            "20240301F025img013.txt\n",
            "20240301F048img006.txt\n",
            "20240301F026img000.txt\n",
            "20240301F026img001.txt\n",
            "20240301F049img002.txt\n",
            "20240301F049img004.txt\n",
            "20240301F026img004.txt\n",
            "20240301F073img000.txt\n",
            "20240301F049img005.txt\n",
            "20240301F049img008.txt\n",
            "20240301F026img005.txt\n",
            "20240301F049img009.txt\n",
            "20240301F026img010.txt\n",
            "20240301F073img001.txt\n",
            "20240301F049img019.txt\n",
            "20240301F026img011.txt\n",
            "20240301F050img002.txt\n",
            "20240301F073img007.txt\n",
            "20240301F026img013.txt\n",
            "20240301F050img003.txt\n",
            "20240301F050img004.txt\n",
            "20240301F027img000.txt\n",
            "20240301F050img009.txt\n",
            "20240301F073img008.txt\n",
            "20240301F027img007.txt\n",
            "20240301F073img011.txt\n",
            "20240301F027img010.txt\n",
            "20240301F050img020.txt\n",
            "20240301F051img000.txt\n",
            "20240301F027img014.txt\n",
            "20240301F051img006.txt\n",
            "20240301F051img007.txt\n",
            "20240301F027img015.txt\n",
            "20240301F051img010.txt\n",
            "20240301F027img016.txt\n",
            "20240301F027img017.txt\n",
            "20240301F028img000.txt\n",
            "20240301F051img011.txt\n",
            "20240301F028img004.txt\n",
            "20240301F051img017.txt\n",
            "20240301F028img005.txt\n",
            "20240301F051img018.txt\n",
            "20240301F028img013.txt\n",
            "20240301F028img014.txt\n",
            "20240301F028img015.txt\n",
            "20240301F051img020.txt\n",
            "20240301F051img021.txt\n",
            "20240301F051img025.txt\n",
            "20240301F052img002.txt\n",
            "20240301F028img016.txt\n",
            "20240301F052img004.txt\n",
            "20240301F028img017.txt\n",
            "20240301F052img005.txt\n",
            "20240301F029img000.txt\n",
            "20240301F052img006.txt\n",
            "20240301F073img012.txt\n",
            "20240301F029img001.txt\n",
            "20240301F052img021.txt\n",
            "20240301F052img022.txt\n",
            "20240301F052img023.txt\n",
            "20240301F053img004.txt\n",
            "20240301F053img022.txt\n",
            "20240301F029img008.txt\n",
            "20240301F053img023.txt\n",
            "20240301F054img002.txt\n",
            "20240301F054img005.txt\n",
            "20240301F054img009.txt\n",
            "20240301F054img011.txt\n",
            "20240301F054img021.txt\n",
            "20240301F054img022.txt\n",
            "20240301F055img002.txt\n",
            "20240301F055img003.txt\n",
            "20240301F055img004.txt\n",
            "20240301F055img005.txt\n",
            "20240301F055img007.txt\n",
            "20240301F029img009.txt\n",
            "20240301F055img026.txt\n",
            "20240301F029img013.txt\n",
            "20240301F056img002.txt\n",
            "20240301F029img014.txt\n",
            "20240301F056img004.txt\n",
            "20240301F029img016.txt\n",
            "20240301F056img006.txt\n",
            "20240301F029img017.txt\n",
            "20240301F029img018.txt\n",
            "20240301F056img019.txt\n",
            "20240301F030img000.txt\n",
            "20240301F057img017.txt\n",
            "20240301F030img003.txt\n",
            "20240301F057img019.txt\n",
            "20240301F030img006.txt\n",
            "20240301F058img005.txt\n",
            "20240301F058img011.txt\n",
            "20240301F058img019.txt\n",
            "20240301F058img020.txt\n",
            "20240301F058img021.txt\n",
            "20240301F059img015.txt\n",
            "20240301F030img007.txt\n",
            "20240301F059img016.txt\n",
            "20240301F030img008.txt\n",
            "20240301F030img014.txt\n",
            "20240301F030img015.txt\n",
            "20240301F030img017.txt\n",
            "20240301F030img018.txt\n",
            "20240301F031img000.txt\n",
            "20240301F031img001.txt\n",
            "20240301F031img002.txt\n",
            "20240301F031img003.txt\n"
          ]
        }
>>>>>>> d65d25e1b9b9a1448881b1b05b7a6814a23693da
      ]
    },
    {
      "cell_type": "markdown",
      "metadata": {
        "id": "2wtTD4u_XzkQ"
      },
      "source": [
        "### Move prepared data to training_data"
      ]
    },
    {
      "cell_type": "code",
      "execution_count": null,
      "metadata": {
        "id": "KgojmCx6X4N6"
      },
<<<<<<< HEAD
      "outputs": [],
      "source": [
        "# ---- move_to_training_data.py ----\n",
        "%cd /content/machine_learning_ev_ice/src\n",
        "%run ./move_to_training_data.py\n",
        "\n",
        "\n",
        "from google.colab import files\n",
        "\n",
        "files.view('./move_to_training_data.py')"
      ]
=======
      "execution_count": null,
      "outputs": []
>>>>>>> d65d25e1b9b9a1448881b1b05b7a6814a23693da
    },
    {
      "cell_type": "markdown",
      "metadata": {},
      "source": [
        "---\n",
        "\n",
        "# Real work here"
      ]
    },
    {
      "cell_type": "markdown",
      "metadata": {
        "id": "pWtCZg8DNPf5"
      },
      "source": [
        "### Training the model with povided labeled data\n",
        "\n",
        "The model first needs to understand what cars are EV, what cars are ICE, and what are \"other\" (i.e. indistinguishable, or vintage, possibly)."
      ]
    },
    {
      "cell_type": "markdown",
      "metadata": {
        "id": "GB3ktMMNojU0"
      },
      "source": [
        "### Important check\n",
        "\n",
        "Before proceeding, make sure there is a directory structured like this:\n",
        "\n",
        "```\n",
        "training_data/\n",
        "├── images/\n",
        "│   ├── train/\n",
        "│   └── val/\n",
        "└── labels/\n",
        "    ├── train/\n",
        "    └── val/\n",
        "```\n",
        "\n",
        "and the files these folders contain have unique pairs (non-overlapping across train/val, too!) of corresponding names, i.e.:\n",
        "\n",
        "images/train/img1.png <-> labels/traing/img1.txt; images/val/img2.png <-> labels/val/img2.png"
      ]
    },
    {
      "cell_type": "markdown",
      "metadata": {
        "id": "ML05xDusjHCl"
      },
      "source": [
        "### Configuration file\n",
        "\n",
        "The *config.yaml* file configures the flow of the model training process, it looks like this:\n",
        "\n",
        "```\n",
        "# data.yaml\n",
        "path: training_data\n",
        "\n",
        "train: images/train\n",
        "val: images/val\n",
        "\n",
        "nc: 2\n",
        "names:\n",
        "  0: EV\n",
        "  1: ICE\n",
        "```\n",
        "\n",
        "For full info, check out the [ultralytics docs](https://docs.ultralytics.com/usage/cfg/#predict-settings)."
      ]
    },
    {
      "cell_type": "code",
      "execution_count": null,
      "metadata": {
        "colab": {
          "base_uri": "https://localhost:8080/",
          "height": 621
        },
        "id": "ExavqF9seA3p",
        "outputId": "69283581-b8f9-486d-bce3-a96db4acd3a8"
      },
      "outputs": [],
      "source": [
        "################################################################\n",
        "# Change this script in accordance to your working environment #\n",
        "################################################################\n",
        "\n",
        "%cd /content/machine_learning_ev_ice/src\n",
        "\n",
        "from ultralytics import YOLO\n",
        "\n",
        "MODEL_PATH = './yolov8s.pt'\n",
        "CONF_FILE = './config.yaml'\n",
        "EPOCHS_NUM = 10\n",
        "\n",
        "model = YOLO(MODEL_PATH)\n",
        "model.train(data = CONF_FILE, epochs = EPOCHS_NUM)"
<<<<<<< HEAD
=======
      ],
      "metadata": {
        "id": "ExavqF9seA3p",
        "outputId": "a3177e28-dacf-4141-fecb-54e5ded16a36",
        "colab": {
          "base_uri": "https://localhost:8080/",
          "height": 109
        }
      },
      "execution_count": 3,
      "outputs": [
        {
          "output_type": "error",
          "ename": "SyntaxError",
          "evalue": "positional argument follows keyword argument (<ipython-input-3-5981a9048861>, line 9)",
          "traceback": [
            "\u001b[0;36m  File \u001b[0;32m\"<ipython-input-3-5981a9048861>\"\u001b[0;36m, line \u001b[0;32m9\u001b[0m\n\u001b[0;31m    model.train(data = CONF_FILE, epochs = EPOCHS_NUM, device = 0,1)\u001b[0m\n\u001b[0m                                                                   ^\u001b[0m\n\u001b[0;31mSyntaxError\u001b[0m\u001b[0;31m:\u001b[0m positional argument follows keyword argument\n"
          ]
        }
>>>>>>> d65d25e1b9b9a1448881b1b05b7a6814a23693da
      ]
    },
    {
      "cell_type": "markdown",
      "metadata": {},
      "source": [
        "---\n",
        "\n",
        "# Validation helper\n",
        "\n",
        "The below script helps you check whether the model is working ok by drawing the bounding boxes and writing assigned labels."
      ]
    },
    {
      "cell_type": "code",
      "execution_count": null,
      "metadata": {
        "id": "pRG7YckugWgM"
      },
      "outputs": [],
      "source": [
        "# ---- validation_helper.py ----\n",
        "%cd /content/machine_learning_ev_ice/src\n",
        "%run ./validation_helper.py\n",
        "\n",
        "\n",
        "from google.colab import files\n",
        "\n",
        "files.view('./validation_helper.py')"
      ]
    }
  ],
  "metadata": {
    "colab": {
      "include_colab_link": true,
      "provenance": []
    },
    "kernelspec": {
      "display_name": ".venv",
      "language": "python",
      "name": "python3"
    },
    "language_info": {
      "codemirror_mode": {
        "name": "ipython",
        "version": 3
      },
      "file_extension": ".py",
      "mimetype": "text/x-python",
      "name": "python",
      "nbconvert_exporter": "python",
      "pygments_lexer": "ipython3",
      "version": "3.12.6"
    }
  },
  "nbformat": 4,
  "nbformat_minor": 0
}
