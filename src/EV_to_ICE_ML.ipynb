{
  "cells": [
    {
      "cell_type": "markdown",
      "metadata": {
        "colab_type": "text",
        "id": "view-in-github"
      },
      "source": [
        "<a href=\"https://colab.research.google.com/github/stas420/machine_learning_ev_ice/blob/main/EV_to_ICE_ML.ipynb\" target=\"_parent\"><img src=\"https://colab.research.google.com/assets/colab-badge.svg\" alt=\"Open In Colab\"/></a>"
      ]
    },
    {
      "cell_type": "markdown",
      "metadata": {
        "id": "y63zTPUzs8BK"
      },
      "source": [
        "**TODO:** poprawić to, żeby robiło *git push* albo *git clone link* w zależności od potrzeby"
      ]
    },
    {
      "cell_type": "code",
      "execution_count": null,
      "metadata": {
        "colab": {
          "base_uri": "https://localhost:8080/"
        },
        "id": "0TJBJJrusGnx",
        "outputId": "9905a5c7-3a30-4935-862d-db2e4383fcff"
      },
      "outputs": [],
      "source": [
        "!git clone https://github.com/stas420/machine_learning_ev_ice.git\n",
        "%cd machine_learning_ev_ice"
      ]
    },
    {
      "cell_type": "code",
      "execution_count": null,
      "metadata": {
        "colab": {
          "base_uri": "https://localhost:8080/"
        },
        "id": "3oB99vcFrGWR",
        "outputId": "27fb99b2-99e1-4bd0-adbd-9539550c355b"
      },
      "outputs": [],
      "source": [
        "# Setup dependencies for the project\n",
        "%pip install -r requirements.txt"
      ]
    },
    {
      "cell_type": "code",
      "execution_count": null,
      "metadata": {
        "colab": {
          "base_uri": "https://localhost:8080/"
        },
        "id": "2IeZ7a9crGWT",
        "outputId": "5a3e7c71-7911-4dba-fd94-e88e5f8f0e9d"
      },
      "outputs": [
        {
          "name": "stdout",
          "output_type": "stream",
          "text": [
            " Volume in drive E is Lexar NM620 SSD\n",
            " Volume Serial Number is 9AF2-AD84\n",
            "\n",
            " Directory of e:\\studia\\machine_learning_ev_ice\\src\n",
            "\n",
            "07/04/2025  21:44    <DIR>          .\n",
            "07/04/2025  21:44    <DIR>          ..\n",
            "07/04/2025  21:08             1,632 download_videos.py\n",
            "07/04/2025  21:27             4,300 EV_to_ICE_ML.ipynb\n",
            "07/04/2025  21:08                64 requirements.txt\n",
            "               3 File(s)          5,996 bytes\n",
            "               2 Dir(s)  102,966,366,208 bytes free\n"
          ]
        }
      ],
      "source": [
        "# Launch labelImg\n",
        "!labelImg"
      ]
    },
    {
      "cell_type": "markdown",
      "metadata": {
        "id": "v6ZA89xgozHj"
      },
      "source": [
        "Dżem dobry\n",
        ":)"
      ]
    }
  ],
  "metadata": {
    "colab": {
      "include_colab_link": true,
      "provenance": []
    },
    "kernelspec": {
      "display_name": ".venv",
      "language": "python",
      "name": "python3"
    },
    "language_info": {
      "codemirror_mode": {
        "name": "ipython",
        "version": 3
      },
      "file_extension": ".py",
      "mimetype": "text/x-python",
      "name": "python",
      "nbconvert_exporter": "python",
      "pygments_lexer": "ipython3",
      "version": "3.12.6"
    }
  },
  "nbformat": 4,
  "nbformat_minor": 0
}
