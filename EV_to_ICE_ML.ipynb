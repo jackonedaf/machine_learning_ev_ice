{
  "cells": [
    {
      "cell_type": "markdown",
      "metadata": {
        "id": "view-in-github",
        "colab_type": "text"
      },
      "source": [
        "<a href=\"https://colab.research.google.com/github/stas420/machine_learning_ev_ice/blob/main/EV_to_ICE_ML.ipynb\" target=\"_parent\"><img src=\"https://colab.research.google.com/assets/colab-badge.svg\" alt=\"Open In Colab\"/></a>"
      ]
    },
    {
      "cell_type": "markdown",
      "source": [
        "**TODO:** poprawić to, żeby robiło *git push* albo *git clone link* w zależności od potrzeby"
      ],
      "metadata": {
        "id": "y63zTPUzs8BK"
      }
    },
    {
      "cell_type": "code",
      "source": [
        "!git clone https://github.com/stas420/machine_learning_ev_ice.git\n",
        "%cd machine_learning_ev_ice"
      ],
      "metadata": {
        "id": "0TJBJJrusGnx",
        "outputId": "9905a5c7-3a30-4935-862d-db2e4383fcff",
        "colab": {
          "base_uri": "https://localhost:8080/"
        }
      },
      "execution_count": 1,
      "outputs": [
        {
          "output_type": "stream",
          "name": "stdout",
          "text": [
            "fatal: destination path 'machine_learning_ev_ice' already exists and is not an empty directory.\n",
            "/content/machine_learning_ev_ice\n"
          ]
        }
      ]
    },
    {
      "cell_type": "code",
      "execution_count": 2,
      "metadata": {
        "id": "3oB99vcFrGWR",
        "outputId": "27fb99b2-99e1-4bd0-adbd-9539550c355b",
        "colab": {
          "base_uri": "https://localhost:8080/"
        }
      },
      "outputs": [
        {
          "output_type": "stream",
          "name": "stdout",
          "text": [
            "Requirement already satisfied: setuptools==78.1.0 in /usr/local/lib/python3.11/dist-packages (from -r requirements.txt (line 2)) (78.1.0)\n",
            "Requirement already satisfied: labelImg==1.8.6 in /usr/local/lib/python3.11/dist-packages (from -r requirements.txt (line 3)) (1.8.6)\n",
            "Requirement already satisfied: pyqt5 in /usr/local/lib/python3.11/dist-packages (from labelImg==1.8.6->-r requirements.txt (line 3)) (5.15.11)\n",
            "Requirement already satisfied: lxml in /usr/local/lib/python3.11/dist-packages (from labelImg==1.8.6->-r requirements.txt (line 3)) (5.3.1)\n",
            "Requirement already satisfied: PyQt5-sip<13,>=12.15 in /usr/local/lib/python3.11/dist-packages (from pyqt5->labelImg==1.8.6->-r requirements.txt (line 3)) (12.17.0)\n",
            "Requirement already satisfied: PyQt5-Qt5<5.16.0,>=5.15.2 in /usr/local/lib/python3.11/dist-packages (from pyqt5->labelImg==1.8.6->-r requirements.txt (line 3)) (5.15.16)\n"
          ]
        }
      ],
      "source": [
        "# Setup dependencies for the project\n",
        "%pip install -r requirements.txt"
      ]
    },
    {
      "cell_type": "code",
      "execution_count": 3,
      "metadata": {
        "id": "2IeZ7a9crGWT",
        "outputId": "5a3e7c71-7911-4dba-fd94-e88e5f8f0e9d",
        "colab": {
          "base_uri": "https://localhost:8080/"
        }
      },
      "outputs": [
        {
          "output_type": "stream",
          "name": "stdout",
          "text": [
            "qt.qpa.plugin: Could not load the Qt platform plugin \"xcb\" in \"\" even though it was found.\n",
            "This application failed to start because no Qt platform plugin could be initialized. Reinstalling the application may fix this problem.\n",
            "\n",
            "Available platform plugins are: eglfs, linuxfb, minimal, minimalegl, offscreen, vnc, wayland-egl, wayland, wayland-xcomposite-egl, wayland-xcomposite-glx, webgl, xcb.\n",
            "\n"
          ]
        }
      ],
      "source": [
        "# Launch labelImg\n",
        "!labelImg"
      ]
    },
    {
      "cell_type": "markdown",
      "metadata": {
        "id": "v6ZA89xgozHj"
      },
      "source": [
        "Dżem dobry\n",
        ":)"
      ]
    }
  ],
  "metadata": {
    "colab": {
      "provenance": [],
      "include_colab_link": true
    },
    "kernelspec": {
      "display_name": "Python 3",
      "name": "python3"
    },
    "language_info": {
      "name": "python"
    }
  },
  "nbformat": 4,
  "nbformat_minor": 0
}